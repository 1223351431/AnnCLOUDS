{
 "cells": [
  {
   "cell_type": "code",
   "execution_count": 1,
   "metadata": {},
   "outputs": [
    {
     "name": "stdout",
     "output_type": "stream",
     "text": [
      "hi\n"
     ]
    }
   ],
   "source": [
    "print('hi')\n"
   ]
  },
  {
   "cell_type": "code",
   "execution_count": 5,
   "metadata": {},
   "outputs": [
    {
     "data": {
      "text/plain": [
       "'使用或来进行多行注释。\\n多行注释不能嵌套。\\n注释不会被 Python 解释器执行。'"
      ]
     },
     "execution_count": 5,
     "metadata": {},
     "output_type": "execute_result"
    }
   ],
   "source": [
    "##注释的语法 \n",
    "#在Python中，使用标记进行单行注释。\n",
    "'''使用或来进行多行注释。\n",
    "多行注释不能嵌套。\n",
    "注释不会被 Python 解释器执行。'''"
   ]
  },
  {
   "cell_type": "code",
   "execution_count": 6,
   "metadata": {},
   "outputs": [
    {
     "name": "stdout",
     "output_type": "stream",
     "text": [
      "5+2=7\n",
      "5-2=3\n",
      "5*2=10\n",
      "5/2=2.5\n",
      "5//2=2\n",
      "5**2=25\n",
      "5%2=1\n"
     ]
    }
   ],
   "source": [
    "print(\"5+2=\"+str(5+2))\n",
    "print(\"5-2=\"+str(5-2))\n",
    "print(\"5*2=\"+str(5*2))\n",
    "print(\"5/2=\"+str(5/2))\n",
    "print(\"5//2=\"+str(5//2))\n",
    "print(\"5**2=\"+str(5**2))\n",
    "print(\"5%2=\"+str(5%2))"
   ]
  },
  {
   "cell_type": "code",
   "execution_count": 11,
   "metadata": {},
   "outputs": [
    {
     "name": "stdout",
     "output_type": "stream",
     "text": [
      "昆仑快递\n",
      "昆仑\n"
     ]
    }
   ],
   "source": [
    "sects='昆仑快递'\n",
    "print(sects)\n",
    "快递='昆仑'\n",
    "print(快递)"
   ]
  }
 ],
 "metadata": {
  "kernelspec": {
   "display_name": "Python 3",
   "language": "python",
   "name": "python3"
  },
  "language_info": {
   "codemirror_mode": {
    "name": "ipython",
    "version": 3
   },
   "file_extension": ".py",
   "mimetype": "text/x-python",
   "name": "python",
   "nbconvert_exporter": "python",
   "pygments_lexer": "ipython3",
   "version": "3.8.10"
  },
  "orig_nbformat": 4
 },
 "nbformat": 4,
 "nbformat_minor": 2
}
